{
 "cells": [
  {
   "cell_type": "markdown",
   "id": "5cc4dbdf-a1ae-4bb1-baac-5bc5818b553c",
   "metadata": {},
   "source": [
    "# Data Science Tools and Ecosystem"
   ]
  },
  {
   "cell_type": "markdown",
   "id": "92f70551-f60c-4031-82e7-83700eb0776b",
   "metadata": {},
   "source": [
    "In this notebook, Data Science Tools and Ecosystem are summarized."
   ]
  },
  {
   "cell_type": "markdown",
   "id": "5b29a6b1-ffc3-4c15-95da-741ce38ab253",
   "metadata": {},
   "source": [
    "**Objectives:**\n",
    "\n",
    "1. List popular languages that Data Scientists use.\n",
    "2. List commonly used libraries used by Data Scientists.\n",
    "3. Comment on Data Science tools."
   ]
  },
  {
   "cell_type": "markdown",
   "id": "a68e691a-c99b-4e96-b807-17703f5282aa",
   "metadata": {},
   "source": [
    "Some of the popular languages that Data Scientists use are:\n",
    "1. Python\n",
    "2. R\n",
    "3. SQL\n",
    "4. JAVA"
   ]
  },
  {
   "cell_type": "markdown",
   "id": "013ef283-7b70-4946-8c57-87daa9faebd9",
   "metadata": {},
   "source": [
    "Some of the commonly used libraries used by Data Scientists include:\n",
    "\n",
    "1. TensorFlow.\n",
    "2. NumPy.\n",
    "3. SciPy.\n",
    "4. Pandas.\n",
    "5. Matplotlib.\n",
    "6. Keras.\n",
    "7. SciKit-Learn.\n",
    "8. PyTorch."
   ]
  },
  {
   "cell_type": "markdown",
   "id": "cd60b8e4-2cf8-423e-b969-441e358b575b",
   "metadata": {},
   "source": [
    "# Data Science Tools\n",
    "\n",
    "1. SAS\n",
    "2. MATLAB\n",
    "3. Apache Spark"
   ]
  },
  {
   "cell_type": "markdown",
   "id": "aaa203d0-2b4a-46b6-94fb-f60265394c74",
   "metadata": {},
   "source": [
    "### Below are a few examples of evaluating arithmetic expressions in Python"
   ]
  },
  {
   "cell_type": "code",
   "execution_count": 20,
   "id": "8422f10c-1f13-4026-8e2a-df0cb787936c",
   "metadata": {
    "tags": []
   },
   "outputs": [
    {
     "data": {
      "text/plain": [
       "40"
      ]
     },
     "execution_count": 20,
     "metadata": {},
     "output_type": "execute_result"
    }
   ],
   "source": [
    "# Arithmetic operations\n",
    "aritmatika = compile(\"10 + 15 + 20 - 5\", \"<string>\", \"eval\")\n",
    "eval(aritmatika)\n",
    "# Result: 40"
   ]
  },
  {
   "cell_type": "code",
   "execution_count": 21,
   "id": "30767c82-391b-4e38-a91d-f8255455dc8c",
   "metadata": {
    "tags": []
   },
   "outputs": [
    {
     "data": {
      "text/plain": [
       "55"
      ]
     },
     "execution_count": 21,
     "metadata": {},
     "output_type": "execute_result"
    }
   ],
   "source": [
    "code1 = compile(\"(5 + 10) + (15 + 5) * 2\", \"<string>\", \"eval\")\n",
    "eval(code1)\n",
    "# Result: 55"
   ]
  },
  {
   "cell_type": "code",
   "execution_count": 22,
   "id": "bca2203b-0160-42be-b2eb-b12fdf7ce3dc",
   "metadata": {
    "tags": []
   },
   "outputs": [
    {
     "data": {
      "text/plain": [
       "65449.84694978735"
      ]
     },
     "execution_count": 22,
     "metadata": {},
     "output_type": "execute_result"
    }
   ],
   "source": [
    "import math\n",
    "# Volume of a sphere (Bola) \n",
    "# Rumus volume bola adalah V = 4/3 πr³\n",
    "code = compile(\"4 / 3 * math.pi * math.pow(25, 3)\", \"<string>\", \"eval\")\n",
    "eval(code)\n",
    "# Result: 65449.84694978735"
   ]
  },
  {
   "cell_type": "code",
   "execution_count": 23,
   "id": "33cfd45f-3628-49f6-8013-154b3009b7a0",
   "metadata": {
    "tags": []
   },
   "outputs": [
    {
     "name": "stdout",
     "output_type": "stream",
     "text": [
      "17\n"
     ]
    }
   ],
   "source": [
    "# This a simple arithmetic expression to mutiply then add integers\n",
    "\n",
    "Number = (3 * 4) + 5\n",
    "print(Number)\n",
    "# Result : 17"
   ]
  },
  {
   "cell_type": "code",
   "execution_count": 19,
   "id": "0b9a76ac-a97d-4ce9-b131-c3a66ee36c85",
   "metadata": {
    "tags": []
   },
   "outputs": [
    {
     "name": "stdout",
     "output_type": "stream",
     "text": [
      "0 days, 3.3333333333333335 hours, 0 mins. \n"
     ]
    }
   ],
   "source": [
    "# This will convert 200 minutes to hours by diving by 60\n",
    "\n",
    "days = 0\n",
    "hours = 0\n",
    "mins = 0\n",
    "\n",
    "time = 200\n",
    "#days = time / 1440\n",
    "leftover_minutes = time % 1440\n",
    "hours = leftover_minutes / 60\n",
    "#mins = time - (days*1440) - (hours*60)\n",
    "print(str(days) + \" days, \" + str(hours) + \" hours, \" + str(mins) +  \" mins. \")\n",
    "\n",
    "# Result: 3.3333333333333335 hours"
   ]
  },
  {
   "cell_type": "markdown",
   "id": "5b31f68f-78f9-4e38-9210-250c867fd2dc",
   "metadata": {},
   "source": [
    "## Author\n",
    "\n",
    "Bayu Ardiyansyah"
   ]
  },
  {
   "cell_type": "code",
   "execution_count": null,
   "id": "d81ab477-d75e-4322-816d-b6a10e55f937",
   "metadata": {},
   "outputs": [],
   "source": []
  }
 ],
 "metadata": {
  "kernelspec": {
   "display_name": "Python 3 (ipykernel)",
   "language": "python",
   "name": "python3"
  },
  "language_info": {
   "codemirror_mode": {
    "name": "ipython",
    "version": 3
   },
   "file_extension": ".py",
   "mimetype": "text/x-python",
   "name": "python",
   "nbconvert_exporter": "python",
   "pygments_lexer": "ipython3",
   "version": "3.10.10"
  }
 },
 "nbformat": 4,
 "nbformat_minor": 5
}
